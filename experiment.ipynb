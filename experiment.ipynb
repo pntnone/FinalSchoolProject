{
 "cells": [
  {
   "cell_type": "code",
   "execution_count": 1,
   "metadata": {},
   "outputs": [],
   "source": [
    "import torch"
   ]
  },
  {
   "cell_type": "code",
   "execution_count": 2,
   "metadata": {},
   "outputs": [],
   "source": [
    "%load_ext autoreload\n",
    "%autoreload 2"
   ]
  },
  {
   "cell_type": "code",
   "execution_count": 3,
   "metadata": {},
   "outputs": [
    {
     "name": "stderr",
     "output_type": "stream",
     "text": [
      "c:\\Users\\phamv\\.conda\\envs\\chatbot\\lib\\site-packages\\torch\\serialization.py:453: SourceChangeWarning: source code of class 'models.module.ModelManager' has changed. you can retrieve the original source code by accessing the object's source attribute or set `torch.nn.Module.dump_patches = True` and use the patch tool to revert the changes.\n",
      "  warnings.warn(msg, SourceChangeWarning)\n",
      "c:\\Users\\phamv\\.conda\\envs\\chatbot\\lib\\site-packages\\torch\\serialization.py:453: SourceChangeWarning: source code of class 'models.module.LSTMDecoder' has changed. you can retrieve the original source code by accessing the object's source attribute or set `torch.nn.Module.dump_patches = True` and use the patch tool to revert the changes.\n",
      "  warnings.warn(msg, SourceChangeWarning)\n"
     ]
    }
   ],
   "source": [
    "model = torch.load('new_model.pkl', map_location=torch.device('cpu'))"
   ]
  },
  {
   "cell_type": "code",
   "execution_count": 4,
   "metadata": {},
   "outputs": [
    {
     "name": "stdout",
     "output_type": "stream",
     "text": [
      "{'data_dir': './data/MixSNIPS', 'save_dir': './save/MixSNIPS', 'load_dir': None, 'log_dir': './log/MixSNIPS', 'log_name': 'log.txt', 'random_state': 72, 'gpu': False, 'num_epoch': 50, 'batch_size': 64, 'l2_penalty': 1e-06, 'learning_rate': 0.001, 'dropout_rate': 0.4, 'gat_dropout_rate': 0.4, 'slot_forcing_rate': 0.9, 'threshold': 0.5, 'row_normalized': True, 'early_stop': False, 'patience': 10, 'n_heads': 8, 'alpha': 0.2, 'decoder_gat_hidden_dim': 16, 'n_layers_decoder': 2, 'word_embedding_dim': 32, 'intent_embedding_dim': 64, 'slot_embedding_dim': 32, 'encoder_hidden_dim': 256, 'slot_decoder_hidden_dim': 64, 'attention_hidden_dim': 1024, 'attention_output_dim': 128}\n",
      "Training parameters are listed as follows:\n",
      "\n",
      "\tnumber of train sample:                    45000;\n",
      "\tnumber of dev sample:                      2500;\n",
      "\tnumber of test sample:                     2500;\n",
      "\tnumber of epoch:\t\t\t\t\t\t    50;\n",
      "\tbatch size:\t\t\t\t\t\t\t    64;\n",
      "\tlearning rate:\t\t\t\t\t\t\t    0.001;\n",
      "\trandom seed:\t\t\t\t\t\t\t    72;\n",
      "\trate of l2 penalty:\t\t\t\t\t    1e-06;\n",
      "\trate of dropout in network:                0.4;\n",
      "\tteacher forcing rate(slot)\t\t    \t\t0.9;\n",
      "\n",
      "End of parameters show. Save dir: ./save/MixSNIPS.\n",
      "\n",
      "\n"
     ]
    }
   ],
   "source": [
    "import os, json, random\n",
    "import numpy as np\n",
    "import torch\n",
    "from models.module import ModelManager\n",
    "from utils.loader import DatasetManager\n",
    "from utils.process import Processor\n",
    "from utils.config import *\n",
    "# Save training and model parameters.\n",
    "if not os.path.exists(args.save_dir):\n",
    "    os.system(\"mkdir -p \" + args.save_dir)\n",
    "\n",
    "log_path = os.path.join(args.save_dir, \"param.json\")\n",
    "with open('param.json', \"w\", encoding=\"utf8\") as fw:\n",
    "    fw.write(json.dumps(args.__dict__, indent=True))\n",
    "\n",
    "# Fix the random seed of package random.\n",
    "random.seed(args.random_state)\n",
    "np.random.seed(args.random_state)\n",
    "\n",
    "# Fix the random seed of Pytorch when using GPU.\n",
    "if torch.cuda.is_available():\n",
    "    torch.cuda.manual_seed_all(args.random_state)\n",
    "    torch.cuda.manual_seed(args.random_state)\n",
    "    torch.backends.cudnn.deterministic = True\n",
    "    torch.backends.cudnn.benchmark = False\n",
    "\n",
    "# Fix the random seed of Pytorch when using CPU.\n",
    "torch.manual_seed(args.random_state)\n",
    "torch.random.manual_seed(args.random_state)\n",
    "\n",
    "# Instantiate a dataset object.\n",
    "dataset = DatasetManager(args)\n",
    "dataset.quick_build()\n",
    "dataset.show_summary()\n"
   ]
  },
  {
   "cell_type": "code",
   "execution_count": null,
   "metadata": {},
   "outputs": [],
   "source": [
    "dataloader = dataset.batch_delivery('train')"
   ]
  },
  {
   "cell_type": "code",
   "execution_count": null,
   "metadata": {},
   "outputs": [],
   "source": [
    "text_batch, slot_batch, intent_batch = next(iter(dataloader))"
   ]
  },
  {
   "cell_type": "code",
   "execution_count": null,
   "metadata": {},
   "outputs": [],
   "source": [
    "padded_text, [sorted_slot, sorted_intent], seq_lens = dataset.add_padding(text_batch, [(slot_batch, True), (intent_batch, False)])"
   ]
  },
  {
   "cell_type": "code",
   "execution_count": null,
   "metadata": {},
   "outputs": [],
   "source": [
    "def multilabel2one_hot(labels, nums):\n",
    "    res = [0.] * nums\n",
    "    if len(labels) == 0:\n",
    "        return res\n",
    "    if isinstance(labels[0], list):\n",
    "        for label in labels[0]:\n",
    "            res[label] = 1.\n",
    "        return res\n",
    "    for label in labels:\n",
    "        res[label] = 1.\n",
    "    return res\n",
    "\n",
    "\n",
    "def instance2onehot(func, num_intent, data):\n",
    "    res = []\n",
    "    for intents in func(data):\n",
    "        res.append(multilabel2one_hot(intents, num_intent))\n",
    "    return np.array(res)\n"
   ]
  },
  {
   "cell_type": "code",
   "execution_count": null,
   "metadata": {},
   "outputs": [],
   "source": [
    "sorted_intent = [multilabel2one_hot(intents, len(dataset.intent_alphabet)) for intents in\n",
    "                                 sorted_intent]\n",
    "text_var = torch.LongTensor(padded_text)\n",
    "slot_var = torch.LongTensor(sorted_slot)\n",
    "intent_var = torch.Tensor(sorted_intent)"
   ]
  },
  {
   "cell_type": "code",
   "execution_count": 23,
   "metadata": {},
   "outputs": [
    {
     "name": "stdout",
     "output_type": "stream",
     "text": [
      "Model parameters are listed as follows:\n",
      "\n",
      "\tnumber of word:                            11411;\n",
      "\tnumber of slot:                            72;\n",
      "\tnumber of intent:\t\t\t\t\t\t    7;\n",
      "\tword embedding dimension:\t\t\t\t    32;\n",
      "\tencoder hidden dimension:\t\t\t\t    256;\n",
      "\tdimension of intent embedding:\t\t    \t64;\n",
      "\tdimension of slot embedding:\t\t\t    32;\n",
      "\tdimension of slot decoder hidden:  \t    64;\n",
      "\thidden dimension of self-attention:        1024;\n",
      "\toutput dimension of self-attention:        128;\n",
      "Changed!\n",
      "\n",
      "End of parameters show. Now training begins.\n",
      "\n",
      "\n"
     ]
    },
    {
     "name": "stderr",
     "output_type": "stream",
     "text": [
      "c:\\Users\\phamv\\.conda\\envs\\chatbot\\lib\\site-packages\\torch\\nn\\modules\\rnn.py:51: UserWarning: dropout option adds dropout after all but last recurrent layer, so non-zero dropout expects num_layers greater than 1, but got dropout=0.4 and num_layers=1\n",
      "  \"num_layers={}\".format(dropout, num_layers))\n"
     ]
    }
   ],
   "source": [
    "model_new = ModelManager(\n",
    "    args, len(dataset.word_alphabet),\n",
    "    len(dataset.slot_alphabet),\n",
    "    len(dataset.intent_alphabet)\n",
    ")\n",
    "model_new.show_summary()"
   ]
  },
  {
   "cell_type": "code",
   "execution_count": 24,
   "metadata": {},
   "outputs": [
    {
     "data": {
      "text/plain": [
       "<All keys matched successfully>"
      ]
     },
     "execution_count": 24,
     "metadata": {},
     "output_type": "execute_result"
    }
   ],
   "source": [
    "model_new.load_state_dict(model.state_dict())"
   ]
  },
  {
   "cell_type": "code",
   "execution_count": 18,
   "metadata": {},
   "outputs": [],
   "source": [
    "torch.save(model_new, \"new_model.pkl\")"
   ]
  },
  {
   "cell_type": "code",
   "execution_count": null,
   "metadata": {},
   "outputs": [],
   "source": [
    "slot_out, intent_out = model(text_var, seq_lens, forced_slot=slot_var)"
   ]
  },
  {
   "cell_type": "code",
   "execution_count": null,
   "metadata": {},
   "outputs": [],
   "source": [
    "ss, pred_slot, real_slot, pred_intent, real_intent = Processor.prediction(\n",
    "            model_new, dataset, \"test\", args.batch_size, args)"
   ]
  },
  {
   "cell_type": "code",
   "execution_count": 48,
   "metadata": {},
   "outputs": [],
   "source": [
    "texts = [\"can you add confessions to my playlist called clasica and what is the weather forecast for close-by burkina\"]"
   ]
  },
  {
   "cell_type": "code",
   "execution_count": 49,
   "metadata": {},
   "outputs": [],
   "source": [
    "from nltk.tokenize import word_tokenize"
   ]
  },
  {
   "cell_type": "code",
   "execution_count": 575,
   "metadata": {},
   "outputs": [],
   "source": [
    "def tokenize_texts(texts):\n",
    "    tokenized_texts = []\n",
    "    for text in texts:\n",
    "        print(word_tokenize(text))\n",
    "        tokenized_texts.append(word_tokenize(text))\n",
    "    \n",
    "    return tokenized_texts"
   ]
  },
  {
   "cell_type": "code",
   "execution_count": 51,
   "metadata": {},
   "outputs": [
    {
     "name": "stdout",
     "output_type": "stream",
     "text": [
      "['can', 'you', 'add', 'confessions', 'to', 'my', 'playlist', 'called', 'clasica', 'and', 'what', 'is', 'the', 'weather', 'forecast', 'for', 'close-by', 'burkina']\n"
     ]
    }
   ],
   "source": [
    "tokenized_texts = tokenize_texts(texts)"
   ]
  },
  {
   "cell_type": "code",
   "execution_count": 555,
   "metadata": {},
   "outputs": [],
   "source": [
    "import matplotlib.pyplot as plt\n",
    "\n",
    "def visualize_slot_intent_cor(mat, intent_indexs, name, show_pred=False):\n",
    "    dim_nums = list(mat.shape)\n",
    "\n",
    "    assert len(dim_nums)==3\n",
    "\n",
    "    intent_indexs = [idx+1 for idx in intent_indexs]\n",
    "\n",
    "    sliced_mat = mat[:, 0, [intent_indexs]].squeeze(axis=1).transpose(1, 0)\n",
    "    plt.figure(figsize=(10, 7))\n",
    "    if name:\n",
    "        plt.title(name, fontweight =\"bold\")\n",
    "    plt.imshow(sliced_mat, cmap='Blues')\n",
    "\n",
    "    if show_pred:\n",
    "        vector = sliced_mat.max(axis=0)\n",
    "        sliced_mat = sliced_mat == vector\n",
    "        plt.figure(figsize=(10, 7))\n",
    "        plt.title(\"pred \" + name, fontweight =\"bold\")\n",
    "        plt.imshow(sliced_mat , cmap='Blues')\n",
    "    "
   ]
  },
  {
   "cell_type": "code",
   "execution_count": 602,
   "metadata": {},
   "outputs": [
    {
     "name": "stdout",
     "output_type": "stream",
     "text": [
      "['can', 'you', 'add', 'confessions', 'to', 'my', 'playlist', 'called', 'clasica', 'and', 'what', 'is', 'the', 'weather', 'forecast', 'for', 'close-by', 'burkina']\n"
     ]
    },
    {
     "data": {
      "image/png": "[encoded data removed]",
      "text/plain": [
       "<Figure size 1000x700 with 1 Axes>"
      ]
     },
     "metadata": {},
     "output_type": "display_data"
    },
    {
     "data": {
      "image/png": "[encoded data removed]",
      "text/plain": [
       "<Figure size 1000x700 with 1 Axes>"
      ]
     },
     "metadata": {},
     "output_type": "display_data"
    },
    {
     "data": {
      "image/png": "[encoded data removed]",
      "text/plain": [
       "<Figure size 1000x700 with 1 Axes>"
      ]
     },
     "metadata": {},
     "output_type": "display_data"
    }
   ],
   "source": [
    "from utils.process import Evaluator\n",
    "from models.module import ModelManager\n",
    "import matplotlib.pyplot as plt\n",
    "\n",
    "texts = [\"can you add confessions to my playlist called clasica and what is the weather forecast for close-by burkina\"]\n",
    "\n",
    "tokenized_texts = tokenize_texts(texts)\n",
    "\n",
    "model_new = ModelManager(\n",
    "    args, len(dataset.word_alphabet),\n",
    "    len(dataset.slot_alphabet),\n",
    "    len(dataset.intent_alphabet)\n",
    ")\n",
    "model_new.load_state_dict(model.state_dict())\n",
    "\n",
    "def prediction_deployment(model, batch_texts, dataset):\n",
    "    pred_slot = []\n",
    "    pred_intent = []\n",
    "\n",
    "    padded_text, seq_lens = dataset.add_padding(\n",
    "            batch_texts,\n",
    "            digital=False\n",
    "    )\n",
    "    digit_text = dataset.word_alphabet.get_index(padded_text)\n",
    "    var_text = torch.LongTensor(digit_text)\n",
    "    slot_idx, intent_idx, matrix = model(var_text, seq_lens, n_predicts=1)\n",
    "   \n",
    "    nested_slot = Evaluator.nested_list([list(Evaluator.expand_list(slot_idx))], seq_lens)[0]\n",
    "    pred_slot.extend(dataset.slot_alphabet.get_instance(nested_slot))\n",
    "    intent_idx_ = [[] for _ in range(len(digit_text))]\n",
    "    for item in intent_idx:\n",
    "        intent_idx_[item[0]].append(item[1])\n",
    "    intent_idx = intent_idx_\n",
    "    pred_intent.extend(dataset.intent_alphabet.get_instance(intent_idx))\n",
    "\n",
    "    matrix = matrix.cpu().data.numpy()\n",
    "    matrix = matrix.squeeze(2)\n",
    "    plt.figure(figsize=(10, 7))\n",
    "    plt.title(\"pred\", fontweight =\"bold\")\n",
    "    final_matrix = np.transpose(matrix, (1, 0))[intent_idx[0]]\n",
    "    plt.imshow(final_matrix, cmap='Blues')\n",
    "\n",
    "    vector = final_matrix.max(axis=0)\n",
    "    final_matrix = final_matrix == vector\n",
    "    plt.figure(figsize=(10, 7))\n",
    "    plt.title(\"pred\", fontweight =\"bold\")\n",
    "    plt.imshow(final_matrix , cmap='Blues')\n",
    "\n",
    "    plt.figure(figsize=(10, 7))\n",
    "    plt.title(\"pred\", fontweight =\"bold\")\n",
    "    plt.imshow(final_matrix[:, [3, 5, 8, 16, 17]] , cmap='Blues')\n",
    "\n",
    "    # stack_mats = []\n",
    "    # for i in range(9):\n",
    "    #     att_matrix = matrix[:, i]\n",
    "    #     att_matrix = att_matrix.reshape(seq_lens[0], 8, 8)\n",
    "    #     stack_mats.append(att_matrix)\n",
    "    #     if i==8:\n",
    "    #         visualize_slot_intent_cor(att_matrix, intent_idx[0], \"Mat Out\"+str(i+1), show_pred=True)\n",
    "    #     else:\n",
    "    #         visualize_slot_intent_cor(att_matrix, intent_idx[0], \"Mat\"+str(i+1), show_pred=True)\n",
    "\n",
    "    # sum_mat = np.stack(stack_mats).sum(axis=0)\n",
    "    # visualize_slot_intent_cor(sum_mat, intent_idx[0], \"Sum Mat With Out\"+str(10.1))\n",
    "\n",
    "    # sum_mat = np.stack(stack_mats[:-1]).sum(axis=0)\n",
    "    # visualize_slot_intent_cor(sum_mat, intent_idx[0], \"Sum Mat Without Out\"+str(10.2))\n",
    "\n",
    "    # avg_mat = np.stack(stack_mats).mean(axis=0)\n",
    "    # visualize_slot_intent_cor(avg_mat, intent_idx[0], \"Mean Mat With Out\"+str(11.1))\n",
    "\n",
    "    # avg_mat = np.stack(stack_mats[:-1]).mean(axis=0)\n",
    "    # visualize_slot_intent_cor(avg_mat, intent_idx[0], \"Mean Mat Without Out\"+str(11.1))\n",
    "\n",
    "    # word_mat = np.expand_dims(matrix[:, 0], 1)\n",
    "    # matrix = word_mat@matrix.transpose(0, 2, 1)\n",
    "    # matrix = matrix.squeeze(1)\n",
    "    # matrix = matrix.transpose(1, 0)\n",
    "    # final_matrix = matrix[[idx+1 for idx in intent_idx[0]]]\n",
    "    # plt.figure(figsize=(10, 7))\n",
    "    # plt.title(\"cosine similarity\", fontweight =\"bold\")\n",
    "    # plt.imshow(final_matrix , cmap='Blues')\n",
    "\n",
    "    \n",
    "    return pred_intent, pred_slot\n",
    "\n",
    "pred_intent, pred_slot = prediction_deployment(model_new, tokenized_texts, dataset)\n",
    "# pred_intent, pred_slot"
   ]
  },
  {
   "cell_type": "code",
   "execution_count": 587,
   "metadata": {},
   "outputs": [
    {
     "data": {
      "text/plain": [
       "([['AddToPlaylist', 'GetWeather']],\n",
       " [['O',\n",
       "   'O',\n",
       "   'O',\n",
       "   'B-entity_name',\n",
       "   'O',\n",
       "   'B-playlist_owner',\n",
       "   'O',\n",
       "   'O',\n",
       "   'B-playlist',\n",
       "   'O',\n",
       "   'O',\n",
       "   'O',\n",
       "   'O',\n",
       "   'O',\n",
       "   'O',\n",
       "   'O',\n",
       "   'B-geographic_poi',\n",
       "   'B-country']])"
      ]
     },
     "execution_count": 587,
     "metadata": {},
     "output_type": "execute_result"
    }
   ],
   "source": [
    "pred_intent, pred_slot"
   ]
  },
  {
   "cell_type": "code",
   "execution_count": 609,
   "metadata": {},
   "outputs": [
    {
     "name": "stdout",
     "output_type": "stream",
     "text": [
      "bool\n"
     ]
    },
    {
     "data": {
      "text/plain": [
       "(array([0, 0, 0, 1], dtype=int64), array([0, 2, 3, 1], dtype=int64))"
      ]
     },
     "execution_count": 609,
     "metadata": {},
     "output_type": "execute_result"
    }
   ],
   "source": [
    "a = np.array([[True,False,True,True],\n",
    "              [False,True,False,False]])\n",
    "print(a.dtype)\n",
    "np.where(a==1)"
   ]
  },
  {
   "cell_type": "code",
   "execution_count": null,
   "metadata": {},
   "outputs": [],
   "source": [
    "0,2 1,1"
   ]
  }
 ],
 "metadata": {
  "kernelspec": {
   "display_name": "Python 3.7.3 ('chatbot')",
   "language": "python",
   "name": "python3"
  },
  "language_info": {
   "codemirror_mode": {
    "name": "ipython",
    "version": 3
   },
   "file_extension": ".py",
   "mimetype": "text/x-python",
   "name": "python",
   "nbconvert_exporter": "python",
   "pygments_lexer": "ipython3",
   "version": "3.7.3"
  },
  "orig_nbformat": 4,
  "vscode": {
   "interpreter": {
    "hash": "4a4d7199c1f9ed2becb6c3eafc12f0279aeb4528650fb29eb8936c7bd7109d58"
   }
  }
 },
 "nbformat": 4,
 "nbformat_minor": 2
}
